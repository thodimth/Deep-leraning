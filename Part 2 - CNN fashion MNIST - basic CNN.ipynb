{
 "cells": [
  {
   "cell_type": "markdown",
   "metadata": {},
   "source": [
    "# Fashion MNIST with Keras\n",
    "\n",
    "## Overview\n",
    "\n",
    "Fashion MNIST is an MNIST like dataset using images of clothing instead of hand-written digits. Each photo is 28x28 grayscale, with 10 different classes. The dataset contains 70000 images with 60000 for training and 10000 for testing.\n",
    "\n",
    "## Download the dataset\n",
    "download from Kaggle (https://www.kaggle.com/zalando-research/fashionmnist)\n",
    "\n",
    "## Libraries Needed\n",
    "We will be using Anaconda (python 3.6 or 3.5) and Keras with TensorFlow backend.\n",
    "\n",
    "- <b>Anaconda</b> (https://www.youtube.com/watch?v=T8wK5loXkXg&t=9s)\n",
    "- <b>TensorFlow</b> (https://www.youtube.com/watch?v=RplXYjxgZbw)\n",
    "- <b>Keras</b> (```pip install keras```)\n",
    "\n",
    "## Models\n",
    "\n",
    "We'll be using models based on examples from Kaggle (https://www.kaggle.com/danialk/range-of-cnns-on-fashion-mnist-dataset)"
   ]
  },
  {
   "cell_type": "code",
   "execution_count": 1,
   "metadata": {},
   "outputs": [
    {
     "name": "stderr",
     "output_type": "stream",
     "text": [
      "Using TensorFlow backend.\n"
     ]
    }
   ],
   "source": [
    "import keras\n",
    "from keras.models import Sequential\n",
    "from keras.layers import Conv2D, MaxPooling2D, Dense, Flatten, Dropout\n",
    "from keras.optimizers import Adam\n",
    "from keras.callbacks import TensorBoard\n",
    "\n",
    "import numpy as np\n",
    "import pandas as pd\n",
    "import matplotlib.pyplot as plt\n",
    "from sklearn.model_selection import train_test_split"
   ]
  },
  {
   "cell_type": "code",
   "execution_count": 4,
   "metadata": {},
   "outputs": [
    {
     "data": {
      "text/plain": [
       "(1000, 785)"
      ]
     },
     "execution_count": 4,
     "metadata": {},
     "output_type": "execute_result"
    }
   ],
   "source": [
    "train_df = pd.read_csv('fashion_train.csv')\n",
    "test_df = pd.read_csv('fashion_test.csv')\n",
    "\n",
    "train_df.shape"
   ]
  },
  {
   "cell_type": "code",
   "execution_count": 5,
   "metadata": {},
   "outputs": [],
   "source": [
    "# split the training and testing data into X (image) and Y (label) arrays\n",
    "\n",
    "train_data = np.array(train_df, dtype='float32')\n",
    "test_data = np.array(test_df, dtype='float32')\n",
    "\n",
    "x_train = train_data[:, 1:] / 255\n",
    "y_train = train_data[:, 0]\n",
    "\n",
    "x_test = test_data[:, 1:] / 255\n",
    "y_test = test_data[:, 0]"
   ]
  },
  {
   "cell_type": "code",
   "execution_count": 6,
   "metadata": {},
   "outputs": [],
   "source": [
    "# split the training data into train and validate arrays (will be used later)\n",
    "\n",
    "x_train, x_validate, y_train, y_validate = train_test_split(\n",
    "    x_train, y_train, test_size=0.2, random_state=12345,\n",
    ")"
   ]
  },
  {
   "cell_type": "code",
   "execution_count": 7,
   "metadata": {},
   "outputs": [
    {
     "data": {
      "image/png": "[encoded data removed]",
      "text/plain": [
       "<Figure size 432x288 with 1 Axes>"
      ]
     },
     "metadata": {
      "needs_background": "light"
     },
     "output_type": "display_data"
    }
   ],
   "source": [
    "# lets see what the images look like\n",
    "\n",
    "image = x_train[50, :].reshape((28, 28))\n",
    "\n",
    "plt.imshow(image)\n",
    "plt.show()"
   ]
  },
  {
   "cell_type": "markdown",
   "metadata": {},
   "source": [
    "## Create the CNN\n",
    "\n",
    "- <b>Define the model</b>\n",
    "- <b>Compile the model</b>\n",
    "- <b>Fit the model</b>"
   ]
  },
  {
   "cell_type": "code",
   "execution_count": 6,
   "metadata": {},
   "outputs": [
    {
     "name": "stdout",
     "output_type": "stream",
     "text": [
      "x_train shape: (48000, 28, 28, 1)\n",
      "x_test shape: (10000, 28, 28, 1)\n",
      "x_validate shape: (12000, 28, 28, 1)\n"
     ]
    }
   ],
   "source": [
    "im_rows = 28\n",
    "im_cols = 28\n",
    "batch_size = 512\n",
    "im_shape = (im_rows, im_cols, 1)\n",
    "\n",
    "x_train = x_train.reshape(x_train.shape[0], *im_shape)\n",
    "x_test = x_test.reshape(x_test.shape[0], *im_shape)\n",
    "x_validate = x_validate.reshape(x_validate.shape[0], *im_shape)\n",
    "\n",
    "print('x_train shape: {}'.format(x_train.shape))\n",
    "print('x_test shape: {}'.format(x_test.shape))\n",
    "print('x_validate shape: {}'.format(x_validate.shape))"
   ]
  },
  {
   "cell_type": "code",
   "execution_count": 7,
   "metadata": {
    "collapsed": true
   },
   "outputs": [],
   "source": [
    "cnn_model = Sequential([\n",
    "    Conv2D(filters=32, kernel_size=3, activation='relu', input_shape=im_shape),\n",
    "    MaxPooling2D(pool_size=2),\n",
    "    Dropout(0.2),\n",
    "    \n",
    "    Flatten(),\n",
    "    Dense(32, activation='relu'),\n",
    "    Dense(10, activation='softmax')\n",
    "])"
   ]
  },
  {
   "cell_type": "code",
   "execution_count": 8,
   "metadata": {
    "collapsed": true
   },
   "outputs": [],
   "source": [
    "tensorboard = TensorBoard(\n",
    "    log_dir=r'logs\\{}'.format('cnn_1layer'),\n",
    "    write_graph=True,\n",
    "    write_grads=True,\n",
    "    histogram_freq=1,\n",
    "    write_images=True,\n",
    ")\n",
    "\n",
    "cnn_model.compile(\n",
    "    loss='sparse_categorical_crossentropy',\n",
    "    optimizer=Adam(lr=0.001),\n",
    "    metrics=['accuracy']\n",
    ")"
   ]
  },
  {
   "cell_type": "code",
   "execution_count": 9,
   "metadata": {},
   "outputs": [
    {
     "name": "stdout",
     "output_type": "stream",
     "text": [
      "Train on 48000 samples, validate on 12000 samples\n",
      "Epoch 1/10\n",
      "48000/48000 [==============================] - 16s 332us/step - loss: 0.7647 - acc: 0.7485 - val_loss: 0.4800 - val_acc: 0.8326\n",
      "Epoch 2/10\n",
      "48000/48000 [==============================] - 15s 314us/step - loss: 0.4506 - acc: 0.8427 - val_loss: 0.4063 - val_acc: 0.8634\n",
      "Epoch 3/10\n",
      "48000/48000 [==============================] - 15s 316us/step - loss: 0.3931 - acc: 0.8644 - val_loss: 0.3667 - val_acc: 0.8750\n",
      "Epoch 4/10\n",
      "48000/48000 [==============================] - 15s 320us/step - loss: 0.3642 - acc: 0.8746 - val_loss: 0.3504 - val_acc: 0.8822\n",
      "Epoch 5/10\n",
      "48000/48000 [==============================] - 16s 327us/step - loss: 0.3421 - acc: 0.8813 - val_loss: 0.3516 - val_acc: 0.8737\n",
      "Epoch 6/10\n",
      "48000/48000 [==============================] - 16s 330us/step - loss: 0.3279 - acc: 0.8845 - val_loss: 0.3188 - val_acc: 0.8889\n",
      "Epoch 7/10\n",
      "48000/48000 [==============================] - 16s 324us/step - loss: 0.3117 - acc: 0.8912 - val_loss: 0.3050 - val_acc: 0.8952\n",
      "Epoch 8/10\n",
      "48000/48000 [==============================] - 15s 323us/step - loss: 0.2980 - acc: 0.8946 - val_loss: 0.2994 - val_acc: 0.8972\n",
      "Epoch 9/10\n",
      "48000/48000 [==============================] - 16s 327us/step - loss: 0.2875 - acc: 0.8996 - val_loss: 0.2872 - val_acc: 0.9002\n",
      "Epoch 10/10\n",
      "48000/48000 [==============================] - 15s 321us/step - loss: 0.2814 - acc: 0.9007 - val_loss: 0.2898 - val_acc: 0.8972\n"
     ]
    },
    {
     "data": {
      "text/plain": [
       "<keras.callbacks.History at 0x1e2108485f8>"
      ]
     },
     "execution_count": 9,
     "metadata": {},
     "output_type": "execute_result"
    }
   ],
   "source": [
    "cnn_model.fit(\n",
    "    x_train, y_train, batch_size=batch_size,\n",
    "    epochs=10, verbose=1,\n",
    "    validation_data=(x_validate, y_validate),\n",
    "    callbacks=[tensorboard]\n",
    ")"
   ]
  },
  {
   "cell_type": "code",
   "execution_count": 10,
   "metadata": {},
   "outputs": [
    {
     "name": "stdout",
     "output_type": "stream",
     "text": [
      "test loss: 0.2830\n",
      " test acc: 0.9025\n"
     ]
    }
   ],
   "source": [
    "score = cnn_model.evaluate(x_test, y_test, verbose=0)\n",
    "\n",
    "print('test loss: {:.4f}'.format(score[0]))\n",
    "print(' test acc: {:.4f}'.format(score[1]))"
   ]
  },
  {
   "cell_type": "code",
   "execution_count": null,
   "metadata": {
    "collapsed": true
   },
   "outputs": [],
   "source": []
  }
 ],
 "metadata": {
  "kernelspec": {
   "display_name": "Python 3",
   "language": "python",
   "name": "python3"
  },
  "language_info": {
   "codemirror_mode": {
    "name": "ipython",
    "version": 3
   },
   "file_extension": ".py",
   "mimetype": "text/x-python",
   "name": "python",
   "nbconvert_exporter": "python",
   "pygments_lexer": "ipython3",
   "version": "3.7.3"
  }
 },
 "nbformat": 4,
 "nbformat_minor": 2
}
